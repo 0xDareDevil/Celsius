{
 "cells": [
  {
   "cell_type": "code",
   "execution_count": 1,
   "metadata": {},
   "outputs": [],
   "source": [
    "import pandas as pd"
   ]
  },
  {
   "cell_type": "code",
   "execution_count": 2,
   "metadata": {},
   "outputs": [],
   "source": [
    "with open('celsius.txt', 'r') as reader:\n",
    "    celsius_data = reader.read()"
   ]
  },
  {
   "cell_type": "code",
   "execution_count": 3,
   "metadata": {},
   "outputs": [],
   "source": [
    "import re"
   ]
  },
  {
   "cell_type": "code",
   "execution_count": 4,
   "metadata": {},
   "outputs": [],
   "source": [
    "celsius_data = celsius_data.split('\\n')"
   ]
  },
  {
   "cell_type": "code",
   "execution_count": 5,
   "metadata": {},
   "outputs": [
    {
     "data": {
      "text/plain": [
       "3356381"
      ]
     },
     "execution_count": 5,
     "metadata": {},
     "output_type": "execute_result"
    }
   ],
   "source": [
    "len(celsius_data)"
   ]
  },
  {
   "cell_type": "code",
   "execution_count": 6,
   "metadata": {},
   "outputs": [],
   "source": [
    "# celsius_data[0:20]"
   ]
  },
  {
   "cell_type": "code",
   "execution_count": 7,
   "metadata": {},
   "outputs": [],
   "source": [
    "filter_celsius_data = [re.split(r'[ ]{3,}', x.strip()) for x in celsius_data if len(re.split(r'[ ]{3,}', x.strip())) >= 9]"
   ]
  },
  {
   "cell_type": "code",
   "execution_count": 8,
   "metadata": {},
   "outputs": [
    {
     "data": {
      "text/plain": [
       "3167016"
      ]
     },
     "execution_count": 8,
     "metadata": {},
     "output_type": "execute_result"
    }
   ],
   "source": [
    "len(filter_celsius_data)"
   ]
  },
  {
   "cell_type": "code",
   "execution_count": 9,
   "metadata": {},
   "outputs": [],
   "source": [
    "df = pd.DataFrame(filter_celsius_data, columns=[\n",
    "    'USERNAME', 'ADDRESS', 'DATE', 'ACCOUNT', 'TYPE', 'Descriptive_Purpose', 'COIN', 'COIN_QUANTITY', 'COIN_USD', 'tmp'\n",
    "])"
   ]
  },
  {
   "cell_type": "code",
   "execution_count": 10,
   "metadata": {},
   "outputs": [
    {
     "data": {
      "text/html": [
       "<div>\n",
       "<style scoped>\n",
       "    .dataframe tbody tr th:only-of-type {\n",
       "        vertical-align: middle;\n",
       "    }\n",
       "\n",
       "    .dataframe tbody tr th {\n",
       "        vertical-align: top;\n",
       "    }\n",
       "\n",
       "    .dataframe thead th {\n",
       "        text-align: right;\n",
       "    }\n",
       "</style>\n",
       "<table border=\"1\" class=\"dataframe\">\n",
       "  <thead>\n",
       "    <tr style=\"text-align: right;\">\n",
       "      <th></th>\n",
       "      <th>USERNAME</th>\n",
       "      <th>ADDRESS</th>\n",
       "      <th>DATE</th>\n",
       "      <th>ACCOUNT</th>\n",
       "      <th>TYPE</th>\n",
       "      <th>Descriptive_Purpose</th>\n",
       "      <th>COIN</th>\n",
       "      <th>COIN_QUANTITY</th>\n",
       "      <th>COIN_USD</th>\n",
       "      <th>tmp</th>\n",
       "    </tr>\n",
       "  </thead>\n",
       "  <tbody>\n",
       "    <tr>\n",
       "      <th>3165829</th>\n",
       "      <td>นิตพ</td>\n",
       "      <td>ิ ล พลวัน</td>\n",
       "      <td>ADDRESS REDACTED</td>\n",
       "      <td>4/14/2022 - 7/13/2022</td>\n",
       "      <td>Earn - Interest; Earn, Custody or Withheld - R...</td>\n",
       "      <td>Incoming</td>\n",
       "      <td>Interest and Rewards</td>\n",
       "      <td>ETH</td>\n",
       "      <td>0.0019189957731</td>\n",
       "      <td>$3.65</td>\n",
       "    </tr>\n",
       "    <tr>\n",
       "      <th>3165830</th>\n",
       "      <td>นิตพ</td>\n",
       "      <td>ิ ล พลวัน</td>\n",
       "      <td>ADDRESS REDACTED</td>\n",
       "      <td>4/14/2022 - 7/13/2022</td>\n",
       "      <td>Earn - Interest; Earn, Custody or Withheld - R...</td>\n",
       "      <td>Incoming</td>\n",
       "      <td>Interest and Rewards</td>\n",
       "      <td>MATIC</td>\n",
       "      <td>1.27100560999</td>\n",
       "      <td>$1.01</td>\n",
       "    </tr>\n",
       "    <tr>\n",
       "      <th>3165831</th>\n",
       "      <td>นิตพ</td>\n",
       "      <td>ิ ล พลวัน</td>\n",
       "      <td>ADDRESS REDACTED</td>\n",
       "      <td>4/14/2022 - 7/13/2022</td>\n",
       "      <td>Earn - Interest; Earn, Custody or Withheld - R...</td>\n",
       "      <td>Incoming</td>\n",
       "      <td>Interest and Rewards</td>\n",
       "      <td>DOT</td>\n",
       "      <td>0.45055289695</td>\n",
       "      <td>$5.01</td>\n",
       "    </tr>\n",
       "    <tr>\n",
       "      <th>3165832</th>\n",
       "      <td>นิตพ</td>\n",
       "      <td>ิ ล พลวัน</td>\n",
       "      <td>ADDRESS REDACTED</td>\n",
       "      <td>4/14/2022 - 7/13/2022</td>\n",
       "      <td>Earn - Interest; Earn, Custody or Withheld - R...</td>\n",
       "      <td>Incoming</td>\n",
       "      <td>Interest and Rewards</td>\n",
       "      <td>AVAX</td>\n",
       "      <td>0.037161220739</td>\n",
       "      <td>$1.47</td>\n",
       "    </tr>\n",
       "    <tr>\n",
       "      <th>3165841</th>\n",
       "      <td>สถาพร พิบล</td>\n",
       "      <td>ู ย์</td>\n",
       "      <td>ADDRESS REDACTED</td>\n",
       "      <td>4/14/2022 - 7/13/2022</td>\n",
       "      <td>Earn - Interest; Earn, Custody or Withheld - R...</td>\n",
       "      <td>Incoming</td>\n",
       "      <td>Interest and Rewards</td>\n",
       "      <td>CEL</td>\n",
       "      <td>0.000018718916977</td>\n",
       "      <td>$0.00</td>\n",
       "    </tr>\n",
       "  </tbody>\n",
       "</table>\n",
       "</div>"
      ],
      "text/plain": [
       "           USERNAME    ADDRESS              DATE                ACCOUNT  \\\n",
       "3165829        นิตพ  ิ ล พลวัน  ADDRESS REDACTED  4/14/2022 - 7/13/2022   \n",
       "3165830        นิตพ  ิ ล พลวัน  ADDRESS REDACTED  4/14/2022 - 7/13/2022   \n",
       "3165831        นิตพ  ิ ล พลวัน  ADDRESS REDACTED  4/14/2022 - 7/13/2022   \n",
       "3165832        นิตพ  ิ ล พลวัน  ADDRESS REDACTED  4/14/2022 - 7/13/2022   \n",
       "3165841  สถาพร พิบล       ู ย์  ADDRESS REDACTED  4/14/2022 - 7/13/2022   \n",
       "\n",
       "                                                      TYPE  \\\n",
       "3165829  Earn - Interest; Earn, Custody or Withheld - R...   \n",
       "3165830  Earn - Interest; Earn, Custody or Withheld - R...   \n",
       "3165831  Earn - Interest; Earn, Custody or Withheld - R...   \n",
       "3165832  Earn - Interest; Earn, Custody or Withheld - R...   \n",
       "3165841  Earn - Interest; Earn, Custody or Withheld - R...   \n",
       "\n",
       "        Descriptive_Purpose                  COIN COIN_QUANTITY  \\\n",
       "3165829            Incoming  Interest and Rewards           ETH   \n",
       "3165830            Incoming  Interest and Rewards         MATIC   \n",
       "3165831            Incoming  Interest and Rewards           DOT   \n",
       "3165832            Incoming  Interest and Rewards          AVAX   \n",
       "3165841            Incoming  Interest and Rewards           CEL   \n",
       "\n",
       "                  COIN_USD    tmp  \n",
       "3165829    0.0019189957731  $3.65  \n",
       "3165830      1.27100560999  $1.01  \n",
       "3165831      0.45055289695  $5.01  \n",
       "3165832     0.037161220739  $1.47  \n",
       "3165841  0.000018718916977  $0.00  "
      ]
     },
     "execution_count": 10,
     "metadata": {},
     "output_type": "execute_result"
    }
   ],
   "source": [
    "df[~ df['tmp'].isnull()]"
   ]
  },
  {
   "cell_type": "code",
   "execution_count": 11,
   "metadata": {},
   "outputs": [
    {
     "name": "stderr",
     "output_type": "stream",
     "text": [
      "/tmp/ipykernel_21358/1889675733.py:2: FutureWarning: The default value of regex will change from True to False in a future version.\n",
      "  df_data['COIN_QUANTITY'] = df_data['COIN_QUANTITY'].str.replace(r'[^\\d.]', '').astype(float)\n",
      "/tmp/ipykernel_21358/1889675733.py:3: FutureWarning: The default value of regex will change from True to False in a future version.\n",
      "  df_data['COIN_USD'] = df_data['COIN_USD'].str.replace(r'[^\\d.]', '').astype(float)\n"
     ]
    }
   ],
   "source": [
    "df_data = df[df['tmp'].isnull()].reset_index(drop=True).drop('tmp', axis=1)\n",
    "df_data['COIN_QUANTITY'] = df_data['COIN_QUANTITY'].str.replace(r'[^\\d.]', '').astype(float)\n",
    "df_data['COIN_USD'] = df_data['COIN_USD'].str.replace(r'[^\\d.]', '').astype(float)"
   ]
  },
  {
   "cell_type": "code",
   "execution_count": 12,
   "metadata": {},
   "outputs": [
    {
     "data": {
      "text/plain": [
       "(3167011, 9)"
      ]
     },
     "execution_count": 12,
     "metadata": {},
     "output_type": "execute_result"
    }
   ],
   "source": [
    "df_data.shape"
   ]
  },
  {
   "cell_type": "code",
   "execution_count": 13,
   "metadata": {},
   "outputs": [],
   "source": [
    "df_data_grouped = df_data.groupby(['USERNAME', 'TYPE', 'COIN'])['COIN_QUANTITY'].sum().reset_index()"
   ]
  },
  {
   "cell_type": "code",
   "execution_count": 14,
   "metadata": {},
   "outputs": [
    {
     "data": {
      "text/html": [
       "<div>\n",
       "<style scoped>\n",
       "    .dataframe tbody tr th:only-of-type {\n",
       "        vertical-align: middle;\n",
       "    }\n",
       "\n",
       "    .dataframe tbody tr th {\n",
       "        vertical-align: top;\n",
       "    }\n",
       "\n",
       "    .dataframe thead th {\n",
       "        text-align: right;\n",
       "    }\n",
       "</style>\n",
       "<table border=\"1\" class=\"dataframe\">\n",
       "  <thead>\n",
       "    <tr style=\"text-align: right;\">\n",
       "      <th></th>\n",
       "      <th>USERNAME</th>\n",
       "      <th>TYPE</th>\n",
       "      <th>COIN</th>\n",
       "      <th>COIN_QUANTITY</th>\n",
       "    </tr>\n",
       "  </thead>\n",
       "  <tbody>\n",
       "    <tr>\n",
       "      <th>0</th>\n",
       "      <td>007 CAPITAL LLC</td>\n",
       "      <td>Incoming</td>\n",
       "      <td>BTC</td>\n",
       "      <td>6.927570e+01</td>\n",
       "    </tr>\n",
       "    <tr>\n",
       "      <th>1</th>\n",
       "      <td>007 CAPITAL LLC</td>\n",
       "      <td>Incoming</td>\n",
       "      <td>CEL</td>\n",
       "      <td>8.771685e+03</td>\n",
       "    </tr>\n",
       "    <tr>\n",
       "      <th>2</th>\n",
       "      <td>007 CAPITAL LLC</td>\n",
       "      <td>Incoming</td>\n",
       "      <td>ETH</td>\n",
       "      <td>1.125475e+04</td>\n",
       "    </tr>\n",
       "    <tr>\n",
       "      <th>3</th>\n",
       "      <td>007 CAPITAL LLC</td>\n",
       "      <td>Incoming</td>\n",
       "      <td>USDC</td>\n",
       "      <td>9.860482e+06</td>\n",
       "    </tr>\n",
       "    <tr>\n",
       "      <th>4</th>\n",
       "      <td>007 CAPITAL LLC</td>\n",
       "      <td>Outgoing</td>\n",
       "      <td>BTC</td>\n",
       "      <td>6.927620e+01</td>\n",
       "    </tr>\n",
       "    <tr>\n",
       "      <th>5</th>\n",
       "      <td>007 CAPITAL LLC</td>\n",
       "      <td>Outgoing</td>\n",
       "      <td>CEL</td>\n",
       "      <td>8.703830e+03</td>\n",
       "    </tr>\n",
       "    <tr>\n",
       "      <th>6</th>\n",
       "      <td>007 CAPITAL LLC</td>\n",
       "      <td>Outgoing</td>\n",
       "      <td>ETH</td>\n",
       "      <td>1.096041e+04</td>\n",
       "    </tr>\n",
       "    <tr>\n",
       "      <th>7</th>\n",
       "      <td>007 CAPITAL LLC</td>\n",
       "      <td>Outgoing</td>\n",
       "      <td>USDC</td>\n",
       "      <td>9.261165e+06</td>\n",
       "    </tr>\n",
       "    <tr>\n",
       "      <th>8</th>\n",
       "      <td>1 PLUS 1 SENIOR CARE INC</td>\n",
       "      <td>Incoming</td>\n",
       "      <td>BTC</td>\n",
       "      <td>1.143399e-02</td>\n",
       "    </tr>\n",
       "    <tr>\n",
       "      <th>9</th>\n",
       "      <td>100 RAINBOWS PTY LTD</td>\n",
       "      <td>Incoming</td>\n",
       "      <td>BCH</td>\n",
       "      <td>4.757909e-06</td>\n",
       "    </tr>\n",
       "  </tbody>\n",
       "</table>\n",
       "</div>"
      ],
      "text/plain": [
       "                   USERNAME      TYPE  COIN  COIN_QUANTITY\n",
       "0           007 CAPITAL LLC  Incoming   BTC   6.927570e+01\n",
       "1           007 CAPITAL LLC  Incoming   CEL   8.771685e+03\n",
       "2           007 CAPITAL LLC  Incoming   ETH   1.125475e+04\n",
       "3           007 CAPITAL LLC  Incoming  USDC   9.860482e+06\n",
       "4           007 CAPITAL LLC  Outgoing   BTC   6.927620e+01\n",
       "5           007 CAPITAL LLC  Outgoing   CEL   8.703830e+03\n",
       "6           007 CAPITAL LLC  Outgoing   ETH   1.096041e+04\n",
       "7           007 CAPITAL LLC  Outgoing  USDC   9.261165e+06\n",
       "8  1 PLUS 1 SENIOR CARE INC  Incoming   BTC   1.143399e-02\n",
       "9      100 RAINBOWS PTY LTD  Incoming   BCH   4.757909e-06"
      ]
     },
     "execution_count": 14,
     "metadata": {},
     "output_type": "execute_result"
    }
   ],
   "source": [
    "df_data_grouped.head(10)"
   ]
  },
  {
   "cell_type": "code",
   "execution_count": 31,
   "metadata": {},
   "outputs": [
    {
     "data": {
      "text/plain": [
       "496031"
      ]
     },
     "execution_count": 31,
     "metadata": {},
     "output_type": "execute_result"
    }
   ],
   "source": [
    "df_data['USERNAME'].nunique()"
   ]
  },
  {
   "cell_type": "code",
   "execution_count": 16,
   "metadata": {},
   "outputs": [
    {
     "data": {
      "text/plain": [
       "BTC           553461\n",
       "ETH           316732\n",
       "CEL           247713\n",
       "USDC          240977\n",
       "MATIC         107941\n",
       "ADA            99773\n",
       "DOT            68967\n",
       "USDT ERC20     56571\n",
       "LINK           54447\n",
       "LTC            51002\n",
       "Name: COIN, dtype: int64"
      ]
     },
     "execution_count": 16,
     "metadata": {},
     "output_type": "execute_result"
    }
   ],
   "source": [
    "df_data[df_data['TYPE'] == 'Incoming']['COIN'].value_counts().head(10)"
   ]
  },
  {
   "cell_type": "code",
   "execution_count": 27,
   "metadata": {},
   "outputs": [],
   "source": [
    "pd.set_option('display.float_format', lambda x: '%.2f' % x)"
   ]
  },
  {
   "cell_type": "code",
   "execution_count": 28,
   "metadata": {},
   "outputs": [
    {
     "data": {
      "text/plain": [
       "COIN\n",
       "BTC          1959603787.88\n",
       "ETH          1751759320.32\n",
       "USDC         1394975792.37\n",
       "USDT ERC20    274763196.04\n",
       "ADA           157905227.42\n",
       "CEL           132151765.79\n",
       "GUSD           95091976.80\n",
       "MATIC          91887982.37\n",
       "LINK           63984245.00\n",
       "SOL            62469853.80\n",
       "PAX            40918094.68\n",
       "PAXG           40065124.62\n",
       "UST            29574833.61\n",
       "DOT            24509425.65\n",
       "LUNC           21961414.18\n",
       "BUSD           21179292.16\n",
       "XRP            18457995.06\n",
       "AVAX           16986113.48\n",
       "LTC            16306355.64\n",
       "WBTC           14801938.56\n",
       "DOGE           13881078.73\n",
       "MCDAI          13534417.29\n",
       "BNB            11446521.40\n",
       "SNX            10070054.68\n",
       "AAVE            6369335.41\n",
       "XLM             6197435.54\n",
       "MANA            5441826.47\n",
       "UNI             4653059.62\n",
       "BCH             4293791.67\n",
       "DASH            4136317.69\n",
       "TUSD            4125728.97\n",
       "ZEC             3835343.01\n",
       "BAT             2887825.33\n",
       "EOS             2737187.27\n",
       "TAUD            2594286.76\n",
       "ZRX             1792508.76\n",
       "KNC             1500698.70\n",
       "TGBP            1488367.76\n",
       "ETC             1064710.19\n",
       "XAUT             920002.68\n",
       "XTZ              889583.15\n",
       "TCAD             799336.77\n",
       "COMP             769829.67\n",
       "BSV              586567.67\n",
       "OMG              470817.53\n",
       "SUSHI            457021.51\n",
       "1INCH            448869.91\n",
       "SGB              303209.38\n",
       "BNT              209724.68\n",
       "LPT              174981.82\n",
       "Name: COIN_USD, dtype: float64"
      ]
     },
     "execution_count": 28,
     "metadata": {},
     "output_type": "execute_result"
    }
   ],
   "source": [
    "df_data[df_data['TYPE'] == 'Incoming'].groupby('COIN')['COIN_USD'].sum().nlargest(50)"
   ]
  },
  {
   "cell_type": "code",
   "execution_count": 29,
   "metadata": {},
   "outputs": [
    {
     "data": {
      "text/plain": [
       "COIN\n",
       "BTC          2860047621.91\n",
       "ETH          2455875874.80\n",
       "USDC         1914186502.81\n",
       "USDT ERC20    395338078.26\n",
       "ADA           172676363.43\n",
       "MATIC         149836761.08\n",
       "CEL           125528044.55\n",
       "GUSD          109092464.20\n",
       "LINK           95007596.52\n",
       "PAX            84055064.53\n",
       "SOL            67120740.56\n",
       "PAXG           58617356.70\n",
       "BUSD           57240530.81\n",
       "XRP            37384977.42\n",
       "DOT            35099679.55\n",
       "WBTC           26071699.93\n",
       "AVAX           25337161.96\n",
       "BNB            24503958.94\n",
       "LTC            22488278.03\n",
       "LUNC           22453315.74\n",
       "MCDAI          18788079.79\n",
       "BCH            16857334.69\n",
       "UST            14967015.33\n",
       "DOGE           14287754.58\n",
       "SNX            12857131.81\n",
       "TUSD           10070624.81\n",
       "AAVE            9629433.36\n",
       "TAUD            9028049.82\n",
       "XLM             8497418.17\n",
       "ZEC             7156423.41\n",
       "MANA            6669794.01\n",
       "TGBP            6263239.87\n",
       "UNI             6188661.60\n",
       "DASH            4949529.06\n",
       "BAT             3718965.48\n",
       "EOS             3699588.66\n",
       "ZRX             3244655.65\n",
       "TCAD            2778560.79\n",
       "ETC             2578513.20\n",
       "THKD            2142559.03\n",
       "KNC             2121359.37\n",
       "XAUT            1340257.92\n",
       "COMP            1310726.87\n",
       "ZUSD             972791.89\n",
       "XTZ              830692.43\n",
       "SUSHI            776651.26\n",
       "1INCH            666692.51\n",
       "BSV              662144.03\n",
       "OMG              560959.80\n",
       "SGB              524385.47\n",
       "Name: COIN_USD, dtype: float64"
      ]
     },
     "execution_count": 29,
     "metadata": {},
     "output_type": "execute_result"
    }
   ],
   "source": [
    "df_data[df_data['TYPE'] == 'Outgoing'].groupby('COIN')['COIN_USD'].sum().nlargest(50)"
   ]
  },
  {
   "cell_type": "code",
   "execution_count": 32,
   "metadata": {},
   "outputs": [
    {
     "data": {
      "text/plain": [
       "USERNAME\n",
       "HARRISON CHARLES SCHOENAU                                                          220697868.82\n",
       "HOME 007 LLC                                                                       153682606.74\n",
       "POWER BLOCK COIN, LLC                                                               90133639.46\n",
       "RHMP PROPERTIES INC                                                                 71998511.82\n",
       "THOMAS HARDY HUGGINS                                                                67338707.95\n",
       "BOFUR CAPITAL LLC                                                                   57941279.50\n",
       "BRADLEY JAMES DOWNS                                                                 41924950.65\n",
       "WEAVE MARKETS LP                                                                    37675849.12\n",
       "PROFLUENT TRADING INC. INC                                                          35257831.25\n",
       "TIAN WEI CHRISTOPHER NG                                                             35202577.60\n",
       "007 CAPITAL LLC                                                                     31370430.36\n",
       "HONG CHOI                                                                           29558666.44\n",
       "DANIEL ANTHONY VALENZUELA                                                           24588476.13\n",
       "LY HOAN                                                                             24249750.40\n",
       "MARK BERGER                                                                         24236756.51\n",
       "ZARYN DENTZEL                                                                       24059621.43\n",
       "MOHAMED ALI MOHAMED NASER BASLAIB                                                   22778899.97\n",
       "JOSEPH BENJAMIN HARDING                                                             21839815.25\n",
       "DRUK HOLDING & INVESTMENTS LIMITED                                                  17978105.68\n",
       "JASON BRUCE OWEN                                                                    17180680.43\n",
       "THOMAS ALBERT DIFIORE                                                               15490005.23\n",
       "ANDREW YOON                                                                         15470988.99\n",
       "NICHOLAS FARR                                                                       15137798.93\n",
       "CLAIRE NISHIMURA                                                                    14389369.61\n",
       "PAZ PARAMDEEP DHODY                                                                 14034593.74\n",
       "CHAMFER LLC                                                                         13770694.72\n",
       "CRYPTO10 SP -SEGREGATED PORTFOLIO OF INVICTUS CAPITAL FINANCIAL TECHNOLOGIES SPC    12390205.86\n",
       "SANDER LYLLOFF                                                                      11942363.95\n",
       "VAN TIBOLLI                                                                         11870649.75\n",
       "JOSHUA ROBERT GRAY                                                                  11484309.15\n",
       "DEFERRED 1031 EXCHANGE, LLC                                                         11282924.58\n",
       "SIMON MITCHELL                                                                      11237302.30\n",
       "R. WOLSTENHOLME                                                                     11187224.91\n",
       "DONALD WAYNE WOODS                                                                  10289617.92\n",
       "NG SENG HE                                                                          10258422.12\n",
       "ZIPMEX ASIA PTE LTD.                                                                10090861.02\n",
       "SHILPA KAMALA GOLLAPUDI                                                             10062572.15\n",
       "LAW OFFICES OF STEFAN COLEMAN, P.A                                                  10036549.92\n",
       "BAN CHAI LOW                                                                         9791305.43\n",
       "ANDREW ALEXANDER POTOTSCHNIK                                                         9781413.92\n",
       "KENT CHOI                                                                            9581800.20\n",
       "KHANH LE PHAM                                                                        9581120.27\n",
       "MICHAEL C MURRAY                                                                     9375547.63\n",
       "THIRD HAVEN DIGITAL YIELD FUND LLC                                                   9294107.58\n",
       "ROBERT KEVIN BUTRYN                                                                  9048764.11\n",
       "INVICTUS CAPITAL FINANCIAL TECHNOLOGIES SPC                                          8995972.69\n",
       "SIMON DIXON                                                                          8906733.61\n",
       "TIMOTHY RUSSELL CRANE                                                                8608800.56\n",
       "MATTHEW FISKE                                                                        8296072.01\n",
       "DIFIORE TSA IRREVOCABLE GST TRUST                                                    8278846.15\n",
       "Name: COIN_USD, dtype: float64"
      ]
     },
     "execution_count": 32,
     "metadata": {},
     "output_type": "execute_result"
    }
   ],
   "source": [
    "df_data[df_data['TYPE'] == 'Incoming'].groupby('USERNAME')['COIN_USD'].sum().nlargest(50)"
   ]
  },
  {
   "cell_type": "code",
   "execution_count": 33,
   "metadata": {},
   "outputs": [
    {
     "data": {
      "text/plain": [
       "USERNAME\n",
       "HARRISON CHARLES SCHOENAU                     246225856.29\n",
       "HOME 007 LLC                                  164546758.04\n",
       "POWER BLOCK COIN, LLC                         120718605.19\n",
       "WEAVE MARKETS LP                               75168524.99\n",
       "RHMP PROPERTIES INC                            74007907.37\n",
       "THOMAS HARDY HUGGINS                           66477839.56\n",
       "DRUK HOLDING & INVESTMENTS LIMITED             65074982.66\n",
       "BOFUR CAPITAL LLC                              58260296.71\n",
       "TIAN WEI CHRISTOPHER NG                        57384102.51\n",
       "QUOINE PTE. LTD. (LIQUID)                      51287146.61\n",
       "PROFLUENT TRADING INC. INC                     49181237.43\n",
       "DANIEL ANTHONY VALENZUELA                      39275847.33\n",
       "HONG CHOI                                      32664881.45\n",
       "GEOMETRIC QUANT ALPHA FUND, LTD                31650493.28\n",
       "MARK BERGER                                    31331284.93\n",
       "007 CAPITAL LLC                                28801052.16\n",
       "LY HOAN                                        28419234.94\n",
       "MICHAEL WEBER                                  27618782.89\n",
       "PAZ PARAMDEEP DHODY                            24909032.55\n",
       "JOSHUA ROBERT GRAY                             22791003.05\n",
       "VAN TIBOLLI                                    22361066.90\n",
       "BRADLEY JAMES DOWNS                            22336951.43\n",
       "MOHAMED ALI MOHAMED NASER BASLAIB              21816522.24\n",
       "JOSEPH BENJAMIN HARDING                        21769742.40\n",
       "CARLOS C DEKKER                                20269431.34\n",
       "SHERI CHAN                                     18758500.46\n",
       "THIRD HAVEN DIGITAL YIELD FUND LLC             18489585.10\n",
       "SIMON DIXON                                    17600000.00\n",
       "INVICTUS CAPITAL FINANCIAL TECHNOLOGIES SPC    17298709.55\n",
       "ROBERT KEVIN BUTRYN                            16909128.55\n",
       "KENT CHOI                                      16857837.05\n",
       "JASON BRUCE OWEN                               16438836.45\n",
       "SANDER LYLLOFF                                 16399545.39\n",
       "MATTHEW FISKE                                  16293025.42\n",
       "DIFIORE TSA IRREVOCABLE GST TRUST              15928975.43\n",
       "CHAMFER LLC                                    15690451.63\n",
       "JASON ANTHONY WILLIAMS                         15201403.19\n",
       "LAW OFFICES OF STEFAN COLEMAN, P.A             14916669.09\n",
       "CLAIRE NISHIMURA                               14314225.89\n",
       "ZIPMEX ASIA PTE LTD.                           14061297.43\n",
       "THOMAS ALBERT DIFIORE                          14026024.40\n",
       "ZARYN DENTZEL                                  13815091.53\n",
       "ANDREW ALEXANDER POTOTSCHNIK                   13801296.78\n",
       "DAVID FRANKLIN GORDON                          13625635.24\n",
       "VOYAGER DIGITAL                                13598597.03\n",
       "MICHAEL MAZZOTTA                               13342399.20\n",
       "SHILPA KAMALA GOLLAPUDI                        13233683.61\n",
       "DONALD WAYNE WOODS                             13042725.70\n",
       "HO MAN LIN                                     12938711.30\n",
       "COIN MEESTER B.V.                              12669280.79\n",
       "Name: COIN_USD, dtype: float64"
      ]
     },
     "execution_count": 33,
     "metadata": {},
     "output_type": "execute_result"
    }
   ],
   "source": [
    "df_data[df_data['TYPE'] == 'Outgoing'].groupby('USERNAME')['COIN_USD'].sum().nlargest(50)"
   ]
  },
  {
   "cell_type": "code",
   "execution_count": 49,
   "metadata": {},
   "outputs": [
    {
     "data": {
      "text/plain": [
       "array(['Custody', 'Earn',\n",
       "       'Earn - Interest; Earn, Custody or Withheld - Rewards', 'Witheld',\n",
       "       'Withheld'], dtype=object)"
      ]
     },
     "execution_count": 49,
     "metadata": {},
     "output_type": "execute_result"
    }
   ],
   "source": [
    "df_data['ACCOUNT'].unique()"
   ]
  },
  {
   "cell_type": "code",
   "execution_count": null,
   "metadata": {},
   "outputs": [],
   "source": []
  }
 ],
 "metadata": {
  "kernelspec": {
   "display_name": "Python 3.10.6 64-bit",
   "language": "python",
   "name": "python3"
  },
  "language_info": {
   "codemirror_mode": {
    "name": "ipython",
    "version": 3
   },
   "file_extension": ".py",
   "mimetype": "text/x-python",
   "name": "python",
   "nbconvert_exporter": "python",
   "pygments_lexer": "ipython3",
   "version": "3.10.6"
  },
  "orig_nbformat": 4,
  "vscode": {
   "interpreter": {
    "hash": "916dbcbb3f70747c44a77c7bcd40155683ae19c65e1c03b4aa3499c5328201f1"
   }
  }
 },
 "nbformat": 4,
 "nbformat_minor": 2
}
